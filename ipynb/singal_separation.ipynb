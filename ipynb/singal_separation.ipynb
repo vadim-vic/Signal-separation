{
 "cells": [
  {
   "cell_type": "code",
   "id": "initial_id",
   "metadata": {
    "collapsed": true,
    "ExecuteTime": {
     "end_time": "2025-04-02T11:16:28.613445Z",
     "start_time": "2025-04-02T11:16:28.164228Z"
    }
   },
   "source": [
    "# Find the base for various numbers of mixture signals.\n",
    "# Select them according to the approximation error.\n",
    "# This demo inherits the test from the file 13_Exhaustive_Base.ipynb\n",
    "\n",
    "import numpy as np\n",
    "import matplotlib.pyplot as plt\n",
    "from functions import *\n",
    "from dataload import (load_data, get_clusters, gen_base, next_sample_dset)\n",
    "from experiment import FeatureSelection\n",
    "from plots import plt_clust_Xyy"
   ],
   "outputs": [],
   "execution_count": 1
  },
  {
   "metadata": {
    "ExecuteTime": {
     "end_time": "2025-04-02T11:16:28.698809Z",
     "start_time": "2025-04-02T11:16:28.618993Z"
    }
   },
   "cell_type": "code",
   "source": [
    "# Load data and data basis\n",
    "iqdata, iqnoise = load_data()\n",
    "dbasis = get_clusters()\n",
    "\n",
    "# Create a data generator and the main class instance\n",
    "# The indices of base centroids in iqdata\n",
    "idx_Abase = list(dbasis.keys())\n",
    "Abase = iqdata[idx_Abase].transpose()"
   ],
   "id": "b16fb18a91a005f1",
   "outputs": [],
   "execution_count": 2
  },
  {
   "metadata": {
    "ExecuteTime": {
     "end_time": "2025-04-02T11:16:28.809316Z",
     "start_time": "2025-04-02T11:16:28.805268Z"
    }
   },
   "cell_type": "code",
   "source": [
    "# How to use the data:\n",
    "# Generate a new dset with randomly mixed signals as y plus a noise of the desired level\n",
    "# The parameters of the computational experiment\n",
    "n_models = 6 # Number of alternative models\n",
    "n_classes = 5 # Maximum number in mixure\n",
    "n_samples = 100 # Sample size\n",
    "noise_level = 1. # Expected noise level"
   ],
   "id": "9630f29b03bbd1c7",
   "outputs": [],
   "execution_count": 3
  },
  {
   "metadata": {
    "ExecuteTime": {
     "end_time": "2025-04-02T11:16:30.996102Z",
     "start_time": "2025-04-02T11:16:28.827089Z"
    }
   },
   "cell_type": "code",
   "source": [
    "# One run of the algorithm\n",
    "n_mixed = 3 # Number signals in the mixture\n",
    "class_sizes =  np.zeros(n_classes, dtype=int) # Dataset generation parameters\n",
    "class_sizes[n_mixed] = n_samples\n",
    "# Generate the new noisy dset of mixtures and create a data sample generator\n",
    "# dset = get_dset(class_sizes, noise_level)\n",
    "dset = gen_base(iqdata, iqnoise, dbasis, cls_sizes=class_sizes, noise_level=noise_level)\n",
    "get_next_sample = next_sample_dset(dset, idx_Abase)\n",
    "answer_y, answer_A, answer_X, _, _ = next(get_next_sample)\n",
    "# Initialize the instance\n",
    "fs = FeatureSelection(Abase, max_models = n_models) # Reset the list of models\n",
    "fs.MAX_BASIS = n_mixed\n",
    "# Find signal separation I/Q data\n",
    "fs.run(answer_y)\n",
    "best_A = fs.best_model()['fea'] # The indices of tags\n",
    "len_resolved = len(set(answer_A) & set(best_A))\n",
    "error = fs.best_model()['err']\n",
    "y1 = fs.best_y()\n"
   ],
   "id": "ef169a1f14eddd60",
   "outputs": [
    {
     "ename": "AttributeError",
     "evalue": "'FeatureSelection' object has no attribute 'best_y'",
     "output_type": "error",
     "traceback": [
      "\u001B[0;31m---------------------------------------------------------------------------\u001B[0m",
      "\u001B[0;31mAttributeError\u001B[0m                            Traceback (most recent call last)",
      "Cell \u001B[0;32mIn[4], line 18\u001B[0m\n\u001B[1;32m     16\u001B[0m len_resolved \u001B[38;5;241m=\u001B[39m \u001B[38;5;28mlen\u001B[39m(\u001B[38;5;28mset\u001B[39m(answer_A) \u001B[38;5;241m&\u001B[39m \u001B[38;5;28mset\u001B[39m(best_A))\n\u001B[1;32m     17\u001B[0m error \u001B[38;5;241m=\u001B[39m fs\u001B[38;5;241m.\u001B[39mbest_model()[\u001B[38;5;124m'\u001B[39m\u001B[38;5;124merr\u001B[39m\u001B[38;5;124m'\u001B[39m]\n\u001B[0;32m---> 18\u001B[0m y1 \u001B[38;5;241m=\u001B[39m \u001B[43mfs\u001B[49m\u001B[38;5;241;43m.\u001B[39;49m\u001B[43mbest_y\u001B[49m()\n",
      "\u001B[0;31mAttributeError\u001B[0m: 'FeatureSelection' object has no attribute 'best_y'"
     ]
    }
   ],
   "execution_count": 4
  },
  {
   "metadata": {},
   "cell_type": "code",
   "outputs": [],
   "execution_count": null,
   "source": [
    "print('Resolved:', len_resolved,  'Answer:', answer_A, 'Model:', best_A)#\n",
    "plt_clust_Xyy(iqdata[answer_X], answer_y, y1, answer_X, 0, 0, demo=True)"
   ],
   "id": "7302737224b358b4"
  }
 ],
 "metadata": {
  "kernelspec": {
   "display_name": "Python 3",
   "language": "python",
   "name": "python3"
  },
  "language_info": {
   "codemirror_mode": {
    "name": "ipython",
    "version": 2
   },
   "file_extension": ".py",
   "mimetype": "text/x-python",
   "name": "python",
   "nbconvert_exporter": "python",
   "pygments_lexer": "ipython2",
   "version": "2.7.6"
  }
 },
 "nbformat": 4,
 "nbformat_minor": 5
}
