{
 "cells": [
  {
   "metadata": {},
   "cell_type": "code",
   "outputs": [],
   "execution_count": null,
   "source": "# Creates dictionary of models as combinations of basis vectors to approximate the mixed signal.",
   "id": "cb4715e3561148c4"
  },
  {
   "cell_type": "code",
   "id": "initial_id",
   "metadata": {
    "collapsed": true,
    "ExecuteTime": {
     "end_time": "2025-03-25T20:34:07.994591Z",
     "start_time": "2025-03-25T20:34:07.989683Z"
    }
   },
   "source": [
    "# General import\n",
    "import numpy as np\n",
    "import matplotlib.pyplot as plt\n",
    "import json\n",
    "# Import the local functions, plots, and utilities\n",
    "from functions import find_shiftX_exhaust, shift, scale_complex\n",
    "from functions import gen_base, get_clusters, shift_x, is_incluster\n",
    "from plots import plt_clust_Xy, plt_clust_Xyy"
   ],
   "outputs": [],
   "execution_count": 4
  },
  {
   "metadata": {
    "ExecuteTime": {
     "end_time": "2025-03-25T20:34:11.697949Z",
     "start_time": "2025-03-25T20:34:11.611942Z"
    }
   },
   "cell_type": "code",
   "source": [
    "# Read the data flies and import functions\n",
    "f_prefx = '../data/inphase_quadrature_'\n",
    "with open(f_path + f_prefx + 'data.json') as f:\n",
    "    iqdata = np.array(json.load(f))\n",
    "with open(f_path + f_prefx + 'noise.json') as f:\n",
    "    iqnoise = np.array(json.load(f))\n",
    "# Convert to the complex row vectors\n",
    "iqdata = iqdata[:, 0, :] + 1j * iqdata[:, 1, :]\n",
    "iqnoise = iqnoise[:, 0, :] + 1j * iqnoise[:, 1, :]"
   ],
   "id": "1aaf3272a4b1edcc",
   "outputs": [],
   "execution_count": 5
  },
  {
   "metadata": {
    "ExecuteTime": {
     "end_time": "2025-03-25T20:34:14.378332Z",
     "start_time": "2025-03-25T20:34:14.313294Z"
    }
   },
   "cell_type": "code",
   "source": [
    "dbasis = get_clusters() # The key is the centroid index, the value is the vector of item indices\n",
    "# print(dbasis)\n",
    "cls_sizes = [0, 0, 0, 10]  # Set sample size for i-th collision\n",
    "dset = gen_base(iqdata, iqnoise, dbasis, cls_sizes)\n",
    "print(list(dset[0].keys())) # List of the keys in each data sample\n",
    "# print(dset[0])"
   ],
   "id": "b77e31cd20fb16fb",
   "outputs": [
    {
     "name": "stdout",
     "output_type": "stream",
     "text": [
      "['data', 'label', 'source', 'basis', 'coeff', 'shift']\n"
     ]
    }
   ],
   "execution_count": 7
  },
  {
   "metadata": {
    "ExecuteTime": {
     "end_time": "2025-03-25T20:34:17.150158Z",
     "start_time": "2025-03-25T20:34:16.236802Z"
    }
   },
   "cell_type": "code",
   "source": [
    "# Set one data sample to reconstruct\n",
    "answer_y = 7\n",
    "y = dset[answer_y]['data']\n",
    "answer_X = dset[answer_y]['basis']\n",
    "answer_coeff = dset[answer_y]['coeff']\n",
    "answer_shift = dset[answer_y]['shift']\n",
    "print(answer_X)\n",
    "\n",
    "data_scaled = scale_complex(iqdata[answer_X], answer_coeff)\n",
    "plt_clust_Xyy(data_scaled, y, y, answer_X, answer_y, 0)\n"
   ],
   "id": "d3af6e1627bf0817",
   "outputs": [
    {
     "name": "stdout",
     "output_type": "stream",
     "text": [
      "[777 131 384]\n"
     ]
    }
   ],
   "execution_count": 8
  },
  {
   "metadata": {
    "ExecuteTime": {
     "end_time": "2025-03-25T20:34:24.328716Z",
     "start_time": "2025-03-25T20:34:24.322302Z"
    }
   },
   "cell_type": "code",
   "source": [
    "cnt = 0\n",
    "MAX_SHIFT = 9\n",
    "MAX_BASIS = 5\n",
    "MAX_MODELS = 200\n",
    "\n",
    "n_basis = len(dbasis)  # 64\n",
    "idx_A = list(dbasis.keys()) # Later we check the reconstructed signal with one of the cluster's signals\n",
    "AT = iqdata[idx_A]\n",
    "A = AT.transpose()\n",
    "del AT, data_scaled, cls_sizes, dset\n",
    "\n",
    "mdl = {frozenset(): {'err': np.inf,    # key is the features\n",
    "                     'fea': list([]),  # features in the right order\n",
    "                     'sft': list([]),  # shift for each feature, same order\n",
    "                     'par': np.empty([])  # set of parameters for each feature\n",
    "                     }}\n",
    "mdl_new = mdl.copy()  # Updated dictionary for form the next cycle\n"
   ],
   "id": "de5c4e301c9103c3",
   "outputs": [],
   "execution_count": 9
  },
  {
   "metadata": {
    "ExecuteTime": {
     "end_time": "2025-03-25T20:35:45.290509Z",
     "start_time": "2025-03-25T20:34:25.448132Z"
    }
   },
   "cell_type": "code",
   "source": [
    "while cnt < MAX_BASIS:\n",
    "    cnt += 1\n",
    "    for idx in mdl.keys():\n",
    "        # print('Append to the indices:', idx)\n",
    "        for j in range(n_basis):  # Exhaustive search in the set of all features of A\n",
    "            # Append index of a feature to the new dictionary\n",
    "            idx_new = frozenset(set(idx) | {j})\n",
    "            if idx_new in mdl: continue # Already in the dictionary, drop it\n",
    "            # Compute the error, parameters and add them to the dictionary values\n",
    "            x = A[:, j]\n",
    "            # Append the new feature to the existing matrix\n",
    "            features = mdl[idx]['fea'].copy()\n",
    "            shifts = mdl[idx]['sft'].copy()\n",
    "            X = A[:, features]\n",
    "            X = shift(X, shifts)  # Arrange the shift\n",
    "            err_min, best_b, best_shift = find_shiftX_exhaust(X, x, y, MAX_SHIFT)\n",
    "            features.append(j)\n",
    "            shifts.append(best_shift)\n",
    "            # In the vector best_b the last feature corresponds to the last item\n",
    "            mdl_new.update({idx_new: {'err': err_min, 'fea': features, 'sft': shifts, 'par': best_b}})\n",
    "\n",
    "            if cnt == MAX_BASIS:\n",
    "                if set(answer_X) == {idx_A[i] for i in features}:\n",
    "                    print('hit to the answer', 'answer_X =', set(answer_X), 'idx_A =', {idx_A[i] for i in features})\n",
    "                    X = A[:, features]\n",
    "                    X = shift(X, shifts)\n",
    "                    y1 = X @ best_b\n",
    "                    plt_clust_Xyy(X.transpose(), y, y1, answer_X, answer_y, 0)\n",
    "\n",
    "    mdl = dict(sorted(mdl_new.items(), key=lambda i: i[1]['err'])[:MAX_MODELS])\n"
   ],
   "id": "fb82d625f47018f4",
   "outputs": [],
   "execution_count": 10
  },
  {
   "metadata": {
    "ExecuteTime": {
     "end_time": "2025-03-25T20:38:34.461381Z",
     "start_time": "2025-03-25T20:35:45.330822Z"
    }
   },
   "cell_type": "code",
   "source": [
    "cnt = 0\n",
    "for idx in mdl:\n",
    "    cnt += 1\n",
    "    X = A[:, list(idx)]\n",
    "    err = mdl[idx]['err']\n",
    "    par = mdl[idx]['par']\n",
    "    sft = mdl[idx]['sft']\n",
    "    X1 = shift(X, sft)\n",
    "    y1 = X1 @ par\n",
    "    plt_clust_Xyy(X1.transpose(), y, y1, list(idx), 'E {:.3f}'.format(err), cnt)\n"
   ],
   "id": "f0b7acd8479f32c5",
   "outputs": [],
   "execution_count": 11
  },
  {
   "metadata": {},
   "cell_type": "code",
   "outputs": [],
   "execution_count": null,
   "source": "",
   "id": "ad7e563825896849"
  }
 ],
 "metadata": {
  "kernelspec": {
   "display_name": "Python 3",
   "language": "python",
   "name": "python3"
  },
  "language_info": {
   "codemirror_mode": {
    "name": "ipython",
    "version": 2
   },
   "file_extension": ".py",
   "mimetype": "text/x-python",
   "name": "python",
   "nbconvert_exporter": "python",
   "pygments_lexer": "ipython2",
   "version": "2.7.6"
  }
 },
 "nbformat": 4,
 "nbformat_minor": 5
}
