{
  "nbformat": 4,
  "nbformat_minor": 0,
  "metadata": {
    "colab": {
      "provenance": []
    },
    "kernelspec": {
      "name": "python3",
      "display_name": "Python 3"
    },
    "language_info": {
      "name": "python"
    }
  },
  "cells": [
    {
      "cell_type": "markdown",
      "source": [],
      "metadata": {
        "id": "KT6rnhcWgOlW"
      }
    },
    {
      "cell_type": "code",
      "execution_count": null,
      "metadata": {
        "id": "uSZciL7Vi7a5"
      },
      "outputs": [],
      "source": [
        "# This is the example of how to collect indices of the cartesian product of sets\n",
        "# in a linear list of product singlets, couples, triplets, ... n-sets\n",
        "# Feb 16, 2025 by vadim-vic"
      ]
    },
    {
      "cell_type": "code",
      "source": [
        "import numpy as np"
      ],
      "metadata": {
        "id": "YfvUMRXvqp2M"
      },
      "execution_count": 3,
      "outputs": []
    },
    {
      "cell_type": "code",
      "source": [
        "# PART 1. Preliminary. No error cut, no function of full basis"
      ],
      "metadata": {
        "id": "btqbEDKdkge6"
      },
      "execution_count": 4,
      "outputs": []
    },
    {
      "cell_type": "code",
      "source": [
        "# The first cell\n",
        "n_basis = 4\n",
        "idx_lst = [[]] # No need [[j] for j in range(n_basis)]\n",
        "idx_new = []\n",
        "err_lst = np.empty(0)"
      ],
      "metadata": {
        "id": "fa1MWtxMkaEd"
      },
      "execution_count": 5,
      "outputs": []
    },
    {
      "cell_type": "code",
      "source": [
        "# The second cell. Run three times!!!\n",
        "for idx in idx_lst:\n",
        "  for j in range(n_basis):  # The whole set of features\n",
        "    # Append indices of the features\n",
        "    idx_copy = idx.copy()\n",
        "    idx_copy.append(j)\n",
        "    idx_new.append(idx_copy)\n",
        "    # Compute the error and add it to the list\n",
        "    err = np.random.uniform(0,1)\n",
        "    err_lst = np.append(err_lst, err)\n",
        "    # print(idx_copy)\n",
        "\n",
        "idx_lst = idx_new.copy()\n",
        "print(idx_lst)\n",
        "print('err_lst shape', err_lst.shape, 'idx_lst length', len(idx_lst))"
      ],
      "metadata": {
        "id": "sCc_Xh_Vkctz",
        "colab": {
          "base_uri": "https://localhost:8080/"
        },
        "outputId": "04767f3e-299d-4df4-faae-7cef7927f755"
      },
      "execution_count": 8,
      "outputs": [
        {
          "output_type": "stream",
          "name": "stdout",
          "text": [
            "[[0], [1], [2], [3], [0, 0], [0, 1], [0, 2], [0, 3], [1, 0], [1, 1], [1, 2], [1, 3], [2, 0], [2, 1], [2, 2], [2, 3], [3, 0], [3, 1], [3, 2], [3, 3], [0, 0], [0, 1], [0, 2], [0, 3], [1, 0], [1, 1], [1, 2], [1, 3], [2, 0], [2, 1], [2, 2], [2, 3], [3, 0], [3, 1], [3, 2], [3, 3], [0, 0, 0], [0, 0, 1], [0, 0, 2], [0, 0, 3], [0, 1, 0], [0, 1, 1], [0, 1, 2], [0, 1, 3], [0, 2, 0], [0, 2, 1], [0, 2, 2], [0, 2, 3], [0, 3, 0], [0, 3, 1], [0, 3, 2], [0, 3, 3], [1, 0, 0], [1, 0, 1], [1, 0, 2], [1, 0, 3], [1, 1, 0], [1, 1, 1], [1, 1, 2], [1, 1, 3], [1, 2, 0], [1, 2, 1], [1, 2, 2], [1, 2, 3], [1, 3, 0], [1, 3, 1], [1, 3, 2], [1, 3, 3], [2, 0, 0], [2, 0, 1], [2, 0, 2], [2, 0, 3], [2, 1, 0], [2, 1, 1], [2, 1, 2], [2, 1, 3], [2, 2, 0], [2, 2, 1], [2, 2, 2], [2, 2, 3], [2, 3, 0], [2, 3, 1], [2, 3, 2], [2, 3, 3], [3, 0, 0], [3, 0, 1], [3, 0, 2], [3, 0, 3], [3, 1, 0], [3, 1, 1], [3, 1, 2], [3, 1, 3], [3, 2, 0], [3, 2, 1], [3, 2, 2], [3, 2, 3], [3, 3, 0], [3, 3, 1], [3, 3, 2], [3, 3, 3]]\n",
            "err_lst shape (100,) idx_lst length 100\n"
          ]
        }
      ]
    },
    {
      "cell_type": "code",
      "source": [
        "# PART 2. Error cut, no function of full basis\n",
        "# NING: The problem with the list is the duplication of subsets. It shall not pass!\n",
        "# So use the sets and the dictionary to keep the errors\n",
        "# The indices on the basis will be the keys to the dictionary"
      ],
      "metadata": {
        "id": "_4k0wxgxkpyM"
      },
      "execution_count": null,
      "outputs": []
    },
    {
      "cell_type": "code",
      "source": [
        "# The first cell\n",
        "ERR_THRESHOLD = 0.5\n",
        "ERR_NUMS = 7\n",
        "n_basis = 4\n",
        "\n",
        "err_lst = {frozenset():np.inf} # Empty dictionary of {indices: error}\n",
        "err_new = dict() # Updated dictionary"
      ],
      "metadata": {
        "id": "u2b6Ob3ukw_q"
      },
      "execution_count": 13,
      "outputs": []
    },
    {
      "cell_type": "code",
      "source": [
        "# This is a DRAFT. Do not modify it after Feb 15. 2025\n",
        "# Variant 1 of the second cell. No dictionary cut. Run three times!!!\n",
        "# For the n_basis = 4 the maximum size of the dictionary is, of course, = 15.\n",
        "# Variant 2. Cut by the maximum length ERR_NUMS\n",
        "# Variant 3. Cut by the maximum error value ERR_THRESHOLD\n",
        "VARIANT = 1 #1 #2 #3any\n",
        "\n",
        "for idx in err_lst.keys():\n",
        "  # print('-----------', idx)\n",
        "  for j in range(n_basis):  # The whole set of features\n",
        "    # Append indices of the features\n",
        "    idx_cp = list(idx)\n",
        "    idx_cp.append(j)\n",
        "    # print(idx_cp)\n",
        "    # Compute the error and add it to the dictionary\n",
        "    err = np.random.uniform(0,1)\n",
        "    err_new[frozenset(idx_cp)] = err\n",
        "#--- end forfor\n",
        "\n",
        "if VARIANT == 1:\n",
        "  err_lst = err_new.copy()\n",
        "elif VARIANT == 2:\n",
        "  # WARNING! IFXIT If the error for all dictionary items changes each run,\n",
        "  #                the size of the dictionary shrinks!\n",
        "  err_lst = err_new.copy()\n",
        "  err_lst = {k: v for k, v in err_lst.items() if v <= ERR_THRESHOLD}\n",
        "else:\n",
        "  err_lst = err_new.copy()\n",
        "  err_srt = {k: v for k, v in sorted(err_lst.items(), key=lambda item: item[1])}\n",
        "  err_lst = dict(list(err_srt.items())[:ERR_NUMS])\n",
        "\n",
        "### Draft version without err_new\n",
        "#err_lst = {k: v for k, v in err_lst.items() if v < ERR_THRESHOLD} # Variant 2\n",
        "#err_srt = {k: v for k, v in sorted(err_lst.items(), key=lambda item: item[1])} # Variant 3\n",
        "#err_lst = dict(list(err_srt.items())[:ERR_NUMS]) # Variant 3 (continue)\n",
        "\n",
        "print('Length of the dictionary:', len(err_lst))\n",
        "# Print the dictionary\n",
        "for key, err in err_lst.items():\n",
        "    print(f\"Set:\", list(key), \"error:\", err)\n",
        "\n",
        "# err_lst[frozenset([1,3,5,6,8,5,6,7])] = 0.1 # Just checking"
      ],
      "metadata": {
        "colab": {
          "base_uri": "https://localhost:8080/"
        },
        "collapsed": true,
        "id": "AOD4zY2hk9I4",
        "outputId": "50658b46-f6e5-4253-ff87-1427bf96be58"
      },
      "execution_count": 17,
      "outputs": [
        {
          "output_type": "stream",
          "name": "stdout",
          "text": [
            "Length of the dictionary: 15\n",
            "Set: [0] error: 0.07489499783518205\n",
            "Set: [1] error: 0.0002529997503591952\n",
            "Set: [2] error: 0.48491185768930845\n",
            "Set: [3] error: 0.9363771702716327\n",
            "Set: [0, 1] error: 0.6667111893922655\n",
            "Set: [0, 2] error: 0.5221343255644058\n",
            "Set: [0, 3] error: 0.12774075129263318\n",
            "Set: [1, 2] error: 0.07444255922843046\n",
            "Set: [1, 3] error: 0.37038492167788817\n",
            "Set: [2, 3] error: 0.6379470100983564\n",
            "Set: [0, 1, 2] error: 0.11380212759020691\n",
            "Set: [0, 1, 3] error: 0.2773614558124916\n",
            "Set: [0, 2, 3] error: 0.17005973447761114\n",
            "Set: [1, 2, 3] error: 0.6421956331486525\n",
            "Set: [0, 1, 2, 3] error: 0.7344565963389172\n"
          ]
        }
      ]
    },
    {
      "cell_type": "code",
      "source": [
        "# APPENDIX some examples of how to use the dict\n",
        "# PART A1: Lambda inline function"
      ],
      "metadata": {
        "id": "Quv8mX3_VdJ7"
      },
      "execution_count": null,
      "outputs": []
    },
    {
      "cell_type": "code",
      "source": [
        "tst_lst = dict()\n",
        "tst_lst[frozenset([1,3,5,6,8,5,6,7])] = 0.1\n",
        "for key, err in tst_lst.items():\n",
        "    print(f\"Subset: {key}\", \"error:\", err)"
      ],
      "metadata": {
        "colab": {
          "base_uri": "https://localhost:8080/"
        },
        "id": "EFOazrXh8GsG",
        "outputId": "de728a84-8329-4eb7-edeb-0111bcd6aeec"
      },
      "execution_count": 18,
      "outputs": [
        {
          "output_type": "stream",
          "name": "stdout",
          "text": [
            "Subset: frozenset({1, 3, 5, 6, 7, 8}) error: 0.1\n"
          ]
        }
      ]
    },
    {
      "cell_type": "code",
      "source": [
        "# Lambda with filter()\n",
        "numbers = [1, 2, 3, 4, 5, 6]\n",
        "evens = list(filter(lambda x: x % 2 == 0, numbers))\n",
        "print(evens)  # Output: [2, 4, 6]"
      ],
      "metadata": {
        "colab": {
          "base_uri": "https://localhost:8080/"
        },
        "id": "qnyRvclW8JU2",
        "outputId": "b67cc815-9934-4b80-aee6-957680270acb"
      },
      "execution_count": 19,
      "outputs": [
        {
          "output_type": "stream",
          "name": "stdout",
          "text": [
            "[2, 4, 6]\n"
          ]
        }
      ]
    },
    {
      "cell_type": "code",
      "source": [
        "# Lambda with sorted()\n",
        "pairs = [(1, 'b'), (2, 'a'), (3, 'c')]\n",
        "sorted_pairs = sorted(pairs, key=lambda x: x[1])\n",
        "print(sorted_pairs)  # Output: [(2, 'a'), (1, 'b'), (3, 'c')]"
      ],
      "metadata": {
        "colab": {
          "base_uri": "https://localhost:8080/"
        },
        "id": "LEDbaSeiV9-d",
        "outputId": "4f314354-8c9d-444c-c28f-b84fbed7a74b"
      },
      "execution_count": 20,
      "outputs": [
        {
          "output_type": "stream",
          "name": "stdout",
          "text": [
            "[(2, 'a'), (1, 'b'), (3, 'c')]\n"
          ]
        }
      ]
    },
    {
      "cell_type": "code",
      "source": [
        "# Lambda with reduce() from functools\n",
        "from functools import reduce\n",
        "\n",
        "numbers = [1, 2, 3, 4]\n",
        "product = reduce(lambda x, y: x * y, numbers)\n",
        "print(product)  # Output: 24"
      ],
      "metadata": {
        "colab": {
          "base_uri": "https://localhost:8080/"
        },
        "id": "7IGEpwsIWDrC",
        "outputId": "7bda1704-5f3c-48b5-9c6d-717a7f3cd324"
      },
      "execution_count": 21,
      "outputs": [
        {
          "output_type": "stream",
          "name": "stdout",
          "text": [
            "24\n"
          ]
        }
      ]
    },
    {
      "cell_type": "code",
      "source": [
        "# Lambda inside a list\n",
        "# Mathematica calls that the nested functions\n",
        "operations = [lambda x: x+2, lambda x: x*2, lambda x: x**2]\n",
        "#for operation in operations:\n",
        "    # print(operation(3))\n",
        "\n",
        "print(operations[0](3))"
      ],
      "metadata": {
        "colab": {
          "base_uri": "https://localhost:8080/"
        },
        "id": "AYRyjytiWSCV",
        "outputId": "34d2fccb-b7e6-415c-82a3-fa654a3e488f"
      },
      "execution_count": 22,
      "outputs": [
        {
          "output_type": "stream",
          "name": "stdout",
          "text": [
            "5\n"
          ]
        }
      ]
    },
    {
      "cell_type": "code",
      "source": [
        "# Lambda in list\n",
        "numbers = [1, 2, 3, 4]\n",
        "squares = [(lambda x: x**2)(x) for x in numbers]\n",
        "print(squares)  # Output: [1, 4, 9, 16]"
      ],
      "metadata": {
        "colab": {
          "base_uri": "https://localhost:8080/"
        },
        "id": "1zxiO7AYXUKo",
        "outputId": "6fc90b72-eab4-4b95-c951-94542864744d"
      },
      "execution_count": 23,
      "outputs": [
        {
          "output_type": "stream",
          "name": "stdout",
          "text": [
            "[1, 4, 9, 16]\n"
          ]
        }
      ]
    },
    {
      "cell_type": "code",
      "source": [
        "# Lambda with map()\n",
        "numbers = [1, 2, 3, 4]\n",
        "squared = list(map(lambda x: x**2, numbers))\n",
        "print(squared)  # Output: [1, 4, 9, 16]"
      ],
      "metadata": {
        "colab": {
          "base_uri": "https://localhost:8080/"
        },
        "id": "rHDEOO72Xtwt",
        "outputId": "51fe111f-00e5-449d-c50d-48d94ad8f53b"
      },
      "execution_count": 24,
      "outputs": [
        {
          "output_type": "stream",
          "name": "stdout",
          "text": [
            "[1, 4, 9, 16]\n"
          ]
        }
      ]
    },
    {
      "cell_type": "code",
      "source": [
        "# PART A2: Find the key in the dictionary"
      ],
      "metadata": {
        "id": "HLxn5rKabUJ1"
      },
      "execution_count": null,
      "outputs": []
    },
    {
      "cell_type": "code",
      "source": [
        "# Sample dictionary\n",
        "# Example 1\n",
        "subset_weights = {\n",
        "    frozenset([1, 2]): 5.5,\n",
        "    frozenset([2, 3]): 7.2,\n",
        "    frozenset([3, 4]): 6.8\n",
        "}\n",
        "\n",
        "# Key to search for\n",
        "key_to_find = frozenset([2, 3])\n",
        "\n",
        "# Check if key exists\n",
        "if key_to_find in subset_weights:\n",
        "    print(\"Key found:\", key_to_find)\n",
        "else:\n",
        "    print(\"Key not found\")"
      ],
      "metadata": {
        "colab": {
          "base_uri": "https://localhost:8080/"
        },
        "id": "zzEZTV2Nbaei",
        "outputId": "0683158b-9aa6-4a50-b0f2-67ac62b9ae61"
      },
      "execution_count": 25,
      "outputs": [
        {
          "output_type": "stream",
          "name": "stdout",
          "text": [
            "Key found: frozenset({2, 3})\n"
          ]
        }
      ]
    },
    {
      "cell_type": "code",
      "source": [
        "# Example 2\n",
        "value = subset_weights.get(frozenset([2, 3]), \"Key not found\")\n",
        "print(value)  # Output: 7.2"
      ],
      "metadata": {
        "colab": {
          "base_uri": "https://localhost:8080/"
        },
        "id": "3cydTnZEbe4J",
        "outputId": "dfba3456-2f47-4d51-e976-a4a781eeb4d2"
      },
      "execution_count": 26,
      "outputs": [
        {
          "output_type": "stream",
          "name": "stdout",
          "text": [
            "7.2\n"
          ]
        }
      ]
    },
    {
      "cell_type": "code",
      "source": [
        "# Example 3\n",
        "search_key = frozenset([3, 4])\n",
        "\n",
        "for key in subset_weights:\n",
        "  if key == search_key:\n",
        "        print(\"Key found:\", key)\n",
        "        break\n",
        "else:\n",
        "    print(\"Key not found\")\n"
      ],
      "metadata": {
        "colab": {
          "base_uri": "https://localhost:8080/"
        },
        "id": "6RGaEn6Xbqg7",
        "outputId": "a77a2ea0-4bec-4f4d-8f82-6a7583062328"
      },
      "execution_count": 27,
      "outputs": [
        {
          "output_type": "stream",
          "name": "stdout",
          "text": [
            "Key found: frozenset({3, 4})\n"
          ]
        }
      ]
    },
    {
      "cell_type": "code",
      "source": [
        "# Example N: Transfer elements randomly from a set of first 10 integers\n",
        "import random\n",
        "\n",
        "def transfer_randomly(N):\n",
        "    source_set = set(range(N))  # Set of {0, 1, ..., N-1}\n",
        "    destination_set = set()     # Empty set to store removed elements\n",
        "\n",
        "    while source_set:\n",
        "        rand_element = random.choice(list(source_set))  # Pick a random element\n",
        "        source_set.remove(rand_element)  # Remove from source set\n",
        "        destination_set.add(rand_element)  # Add to destination set\n",
        "        print(f\"Moved: {rand_element}, Remaining: {source_set}, Transferred: {destination_set}\")\n",
        "\n",
        "transfer_randomly(10)"
      ],
      "metadata": {
        "id": "UmoTwkiMYoHq",
        "colab": {
          "base_uri": "https://localhost:8080/"
        },
        "outputId": "80d60bb5-0e69-469e-9be9-9501227f8fce"
      },
      "execution_count": 28,
      "outputs": [
        {
          "output_type": "stream",
          "name": "stdout",
          "text": [
            "Moved: 0, Remaining: {1, 2, 3, 4, 5, 6, 7, 8, 9}, Transferred: {0}\n",
            "Moved: 4, Remaining: {1, 2, 3, 5, 6, 7, 8, 9}, Transferred: {0, 4}\n",
            "Moved: 1, Remaining: {2, 3, 5, 6, 7, 8, 9}, Transferred: {0, 1, 4}\n",
            "Moved: 2, Remaining: {3, 5, 6, 7, 8, 9}, Transferred: {0, 1, 2, 4}\n",
            "Moved: 7, Remaining: {3, 5, 6, 8, 9}, Transferred: {0, 1, 2, 4, 7}\n",
            "Moved: 9, Remaining: {3, 5, 6, 8}, Transferred: {0, 1, 2, 4, 7, 9}\n",
            "Moved: 8, Remaining: {3, 5, 6}, Transferred: {0, 1, 2, 4, 7, 8, 9}\n",
            "Moved: 3, Remaining: {5, 6}, Transferred: {0, 1, 2, 3, 4, 7, 8, 9}\n",
            "Moved: 6, Remaining: {5}, Transferred: {0, 1, 2, 3, 4, 6, 7, 8, 9}\n",
            "Moved: 5, Remaining: set(), Transferred: {0, 1, 2, 3, 4, 5, 6, 7, 8, 9}\n"
          ]
        }
      ]
    }
  ]
}